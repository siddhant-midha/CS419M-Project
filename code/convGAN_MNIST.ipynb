{
  "nbformat": 4,
  "nbformat_minor": 0,
  "metadata": {
    "colab": {
      "name": "dcGAN_FashionMNIST.ipynb",
      "provenance": []
    },
    "kernelspec": {
      "name": "python3",
      "display_name": "Python 3"
    },
    "language_info": {
      "name": "python"
    },
    "accelerator": "GPU"
  },
  "cells": [
    {
      "cell_type": "code",
      "execution_count": 5,
      "metadata": {
        "id": "xwzyj2KdwY_F"
      },
      "outputs": [],
      "source": [
        "import tensorflow as tf\n",
        "import numpy as np\n",
        "import matplotlib.pyplot as plt\n",
        "from tensorflow.keras.layers import Dense,Reshape,Dropout,BatchNormalization,Flatten,Input,Conv2D,Conv2DTranspose,LeakyReLU,Dropout,Embedding,concatenate \n",
        "from IPython import display\n"
      ]
    },
    {
      "cell_type": "code",
      "source": [
        "(x_train,_),_ = tf.keras.datasets.mnist.load_data()\n",
        "x_train = x_train.astype(np.float32)/255.0"
      ],
      "metadata": {
        "colab": {
          "base_uri": "https://localhost:8080/"
        },
        "id": "a-BQ0NU1wc21",
        "outputId": "5ba57391-e19b-4d0f-b22e-0c1e021f1340"
      },
      "execution_count": 2,
      "outputs": [
        {
          "output_type": "stream",
          "name": "stdout",
          "text": [
            "Downloading data from https://storage.googleapis.com/tensorflow/tf-keras-datasets/mnist.npz\n",
            "11493376/11490434 [==============================] - 0s 0us/step\n",
            "11501568/11490434 [==============================] - 0s 0us/step\n"
          ]
        }
      ]
    },
    {
      "cell_type": "code",
      "source": [
        "LATENT_DIM = 64\n",
        "BATCH_SIZE = 64"
      ],
      "metadata": {
        "id": "v7bp9xxxwd-r"
      },
      "execution_count": 3,
      "outputs": []
    },
    {
      "cell_type": "code",
      "source": [
        "dataset = tf.data.Dataset.from_tensor_slices(x_train).shuffle(3000)\n",
        "dataset = dataset.batch(BATCH_SIZE,drop_remainder = True).prefetch(1)"
      ],
      "metadata": {
        "id": "X4-3BjC_wfp1"
      },
      "execution_count": 4,
      "outputs": []
    },
    {
      "cell_type": "code",
      "source": [
        "def generator():\n",
        "  model = tf.keras.Sequential()\n",
        "  model.add(Dense(7*7,input_shape=[LATENT_DIM]))\n",
        "  model.add(LeakyReLU(0.1))\n",
        "  model.add((BatchNormalization()))\n",
        "  model.add(Reshape([7,7,1]))\n",
        "  model.add(Conv2DTranspose(128,(4,4),padding='same',strides=(2,2)))\n",
        "  model.add(LeakyReLU(0.2))\n",
        "  model.add((BatchNormalization()))\n",
        "  model.add(Conv2DTranspose(1,(4,4),padding='same',activation=\"sigmoid\",strides=(2,2)))\n",
        "  model.add((BatchNormalization()))\n",
        "  #model.add(LeakyReLU(0.2))\n",
        " \n",
        "  \n",
        "  return model"
      ],
      "metadata": {
        "id": "k8astM0wwheu"
      },
      "execution_count": 14,
      "outputs": []
    },
    {
      "cell_type": "code",
      "source": [
        "gen = generator()\n",
        "gen.summary()"
      ],
      "metadata": {
        "colab": {
          "base_uri": "https://localhost:8080/"
        },
        "id": "RC26iY42xCl0",
        "outputId": "97b277cf-40da-4fbf-b3b8-8efb9fc4e53b"
      },
      "execution_count": 15,
      "outputs": [
        {
          "output_type": "stream",
          "name": "stdout",
          "text": [
            "Model: \"sequential_4\"\n",
            "_________________________________________________________________\n",
            " Layer (type)                Output Shape              Param #   \n",
            "=================================================================\n",
            " dense_4 (Dense)             (None, 49)                3185      \n",
            "                                                                 \n",
            " leaky_re_lu_7 (LeakyReLU)   (None, 49)                0         \n",
            "                                                                 \n",
            " batch_normalization_7 (Batc  (None, 49)               196       \n",
            " hNormalization)                                                 \n",
            "                                                                 \n",
            " reshape_1 (Reshape)         (None, 7, 7, 1)           0         \n",
            "                                                                 \n",
            " conv2d_transpose_1 (Conv2DT  (None, 14, 14, 128)      2176      \n",
            " ranspose)                                                       \n",
            "                                                                 \n",
            " leaky_re_lu_8 (LeakyReLU)   (None, 14, 14, 128)       0         \n",
            "                                                                 \n",
            " batch_normalization_8 (Batc  (None, 14, 14, 128)      512       \n",
            " hNormalization)                                                 \n",
            "                                                                 \n",
            " conv2d_transpose_2 (Conv2DT  (None, 28, 28, 1)        2049      \n",
            " ranspose)                                                       \n",
            "                                                                 \n",
            " batch_normalization_9 (Batc  (None, 28, 28, 1)        4         \n",
            " hNormalization)                                                 \n",
            "                                                                 \n",
            "=================================================================\n",
            "Total params: 8,122\n",
            "Trainable params: 7,766\n",
            "Non-trainable params: 356\n",
            "_________________________________________________________________\n"
          ]
        }
      ]
    },
    {
      "cell_type": "code",
      "source": [
        "def discriminator():\n",
        "  model = tf.keras.Sequential()\n",
        "  model.add(Conv2D(128,(4,4),strides=(2,2),padding=\"same\",input_shape = [28,28,1]))\n",
        "  model.add(LeakyReLU(0.2))\n",
        "  model.add((BatchNormalization()))\n",
        "  model.add(Conv2D(64,(4,4),strides=(2,2),padding=\"valid\"))\n",
        "  model.add(LeakyReLU(0.2))\n",
        "  model.add((BatchNormalization()))\n",
        "  model.add(Flatten())\n",
        "  model.add(Dense(64))\n",
        "  model.add(LeakyReLU(0.2))\n",
        "  model.add((BatchNormalization()))\n",
        "  model.add(Dense(1,activation=\"sigmoid\"))\n",
        "  return model"
      ],
      "metadata": {
        "id": "gnS71bRtxMJs"
      },
      "execution_count": 10,
      "outputs": []
    },
    {
      "cell_type": "code",
      "source": [
        "dis = discriminator()\n",
        "dis.summary()"
      ],
      "metadata": {
        "colab": {
          "base_uri": "https://localhost:8080/"
        },
        "id": "5niawIKwx5Uh",
        "outputId": "8dc0237d-645c-4227-a9b9-1fa618e1ba52"
      },
      "execution_count": 11,
      "outputs": [
        {
          "output_type": "stream",
          "name": "stdout",
          "text": [
            "Model: \"sequential_2\"\n",
            "_________________________________________________________________\n",
            " Layer (type)                Output Shape              Param #   \n",
            "=================================================================\n",
            " conv2d_1 (Conv2D)           (None, 14, 14, 128)       2176      \n",
            "                                                                 \n",
            " leaky_re_lu_2 (LeakyReLU)   (None, 14, 14, 128)       0         \n",
            "                                                                 \n",
            " batch_normalization_2 (Batc  (None, 14, 14, 128)      512       \n",
            " hNormalization)                                                 \n",
            "                                                                 \n",
            " conv2d_2 (Conv2D)           (None, 6, 6, 64)          131136    \n",
            "                                                                 \n",
            " leaky_re_lu_3 (LeakyReLU)   (None, 6, 6, 64)          0         \n",
            "                                                                 \n",
            " batch_normalization_3 (Batc  (None, 6, 6, 64)         256       \n",
            " hNormalization)                                                 \n",
            "                                                                 \n",
            " flatten (Flatten)           (None, 2304)              0         \n",
            "                                                                 \n",
            " dense_1 (Dense)             (None, 64)                147520    \n",
            "                                                                 \n",
            " leaky_re_lu_4 (LeakyReLU)   (None, 64)                0         \n",
            "                                                                 \n",
            " batch_normalization_4 (Batc  (None, 64)               256       \n",
            " hNormalization)                                                 \n",
            "                                                                 \n",
            " dense_2 (Dense)             (None, 1)                 65        \n",
            "                                                                 \n",
            "=================================================================\n",
            "Total params: 281,921\n",
            "Trainable params: 281,409\n",
            "Non-trainable params: 512\n",
            "_________________________________________________________________\n"
          ]
        }
      ]
    },
    {
      "cell_type": "code",
      "source": [
        "dis = discriminator()\n",
        "gen = generator()\n",
        "gan = tf.keras.Sequential([gen,dis])\n",
        "dis.compile(loss=\"binary_crossentropy\",optimizer=\"Adam\")\n",
        "dis.trainable = False\n",
        "gan.compile(loss=\"binary_crossentropy\",optimizer=\"Adam\")"
      ],
      "metadata": {
        "id": "jonZf7Gex7-X"
      },
      "execution_count": 16,
      "outputs": []
    },
    {
      "cell_type": "code",
      "source": [
        "def train(gan,dataset,num_epochs):\n",
        "  gen,dis = gan.layers\n",
        "  for epoch in range(num_epochs):\n",
        "    print(epoch)\n",
        "    for real_image_batch in dataset:\n",
        "      latent = tf.random.normal([BATCH_SIZE,LATENT_DIM])\n",
        "      fake_image_batch = tf.squeeze(gen(latent))\n",
        "      x_concat = tf.concat([real_image_batch,fake_image_batch],axis=0)\n",
        "      y_concat = tf.concat([tf.convert_to_tensor(np.ones(BATCH_SIZE)),tf.convert_to_tensor(np.zeros(BATCH_SIZE))],axis=0)\n",
        "      dis.trainable = True\n",
        "      dis.train_on_batch(x_concat,y_concat)\n",
        "      dis.trainable = False\n",
        "      latent = tf.random.normal([BATCH_SIZE,LATENT_DIM])\n",
        "      y = tf.convert_to_tensor(np.ones(BATCH_SIZE))\n",
        "      gan.train_on_batch(latent, y)"
      ],
      "metadata": {
        "id": "f1mJHvnvycQ4"
      },
      "execution_count": 17,
      "outputs": []
    },
    {
      "cell_type": "code",
      "source": [
        "train(gan,dataset,20)"
      ],
      "metadata": {
        "colab": {
          "base_uri": "https://localhost:8080/"
        },
        "id": "vpSV6WKMyfL_",
        "outputId": "25ea762d-3a7b-4aef-b376-771a14d577d1"
      },
      "execution_count": 18,
      "outputs": [
        {
          "output_type": "stream",
          "name": "stdout",
          "text": [
            "0\n",
            "1\n",
            "2\n",
            "3\n",
            "4\n",
            "5\n",
            "6\n",
            "7\n",
            "8\n",
            "9\n",
            "10\n",
            "11\n",
            "12\n",
            "13\n",
            "14\n",
            "15\n",
            "16\n",
            "17\n",
            "18\n",
            "19\n"
          ]
        }
      ]
    },
    {
      "cell_type": "code",
      "source": [
        "def plot(images):\n",
        "  #enter a square num of images\n",
        "  num = np.sqrt(len(images))\n",
        "  plt.figure(figsize=(num,num))\n",
        "  for index, image in enumerate(images):\n",
        "    plt.subplot(num,num,index+1)\n",
        "    plt.imshow(image[:,:,0])\n",
        "\n",
        "latent = tf.random.normal([16,LATENT_DIM])\n",
        "gen = gan.layers[0]\n",
        "plot(gen(latent))"
      ],
      "metadata": {
        "colab": {
          "base_uri": "https://localhost:8080/",
          "height": 268
        },
        "id": "m84gA1swy8ol",
        "outputId": "05620be7-a7f3-4ad2-ed0f-64e7f869937a"
      },
      "execution_count": 19,
      "outputs": [
        {
          "output_type": "display_data",
          "data": {
            "text/plain": [
              "<Figure size 288x288 with 16 Axes>"
            ],
            "image/png": "[encoded data removed]"
          },
          "metadata": {
            "needs_background": "light"
          }
        }
      ]
    },
    {
      "cell_type": "code",
      "source": [
        "def plot(images):\n",
        "  #enter a square num of images\n",
        "  num = np.sqrt(len(images))\n",
        "  plt.figure(figsize=(num,num))\n",
        "  for index, image in enumerate(images):\n",
        "    plt.subplot(num,num,index+1)\n",
        "    plt.imshow(image[:,:,0])\n",
        "\n",
        "latent = tf.random.normal([16,LATENT_DIM])\n",
        "gen = gan.layers[0]\n",
        "plot(gen(latent))"
      ],
      "metadata": {
        "colab": {
          "base_uri": "https://localhost:8080/",
          "height": 268
        },
        "id": "cnWnpMeJamYF",
        "outputId": "1e016ec6-aaa0-4e2e-af69-3904dc321b7f"
      },
      "execution_count": 20,
      "outputs": [
        {
          "output_type": "display_data",
          "data": {
            "text/plain": [
              "<Figure size 288x288 with 16 Axes>"
            ],
            "image/png": "[encoded data removed]"
          },
          "metadata": {
            "needs_background": "light"
          }
        }
      ]
    },
    {
      "cell_type": "code",
      "source": [
        "from google.colab import drive\n",
        "drive.mount('/content/drive')\n",
        "\n"
      ],
      "metadata": {
        "colab": {
          "base_uri": "https://localhost:8080/"
        },
        "id": "d21DQjrbfmqZ",
        "outputId": "f78e0fca-9ad5-43ee-e165-b2813c3aaf50"
      },
      "execution_count": 21,
      "outputs": [
        {
          "output_type": "stream",
          "name": "stdout",
          "text": [
            "Mounted at /content/drive\n"
          ]
        }
      ]
    },
    {
      "cell_type": "code",
      "source": [
        "gan.save(\"/content/drive/MyDrive/convGAN_MNIST\")"
      ],
      "metadata": {
        "colab": {
          "base_uri": "https://localhost:8080/"
        },
        "id": "gx11jB4hf4hB",
        "outputId": "cdf8e8a7-5a4e-4c15-e49e-483f31b7e4a7"
      },
      "execution_count": 22,
      "outputs": [
        {
          "output_type": "stream",
          "name": "stdout",
          "text": [
            "INFO:tensorflow:Assets written to: /content/drive/MyDrive/convGAN_MNIST/assets\n"
          ]
        }
      ]
    },
    {
      "cell_type": "markdown",
      "source": [
        "from google.colab import drive\n",
        "drive.mount('/content/drive')\n",
        "\n"
      ],
      "metadata": {
        "id": "0rnWPdlcf0BR"
      }
    },
    {
      "cell_type": "markdown",
      "source": [
        ""
      ],
      "metadata": {
        "id": "YBWvlShAydDT"
      }
    }
  ]
}