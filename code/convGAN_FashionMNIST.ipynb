{
 "cells": [
  {
   "cell_type": "code",
   "execution_count": 1,
   "metadata": {
    "id": "z9Ic28U8Zh78"
   },
   "outputs": [],
   "source": [
    "import tensorflow as tf\n",
    "import numpy as np\n",
    "import matplotlib.pyplot as plt\n",
    "from tensorflow.keras.layers import Dense,Reshape,Dropout,BatchNormalization,Flatten,Input,Conv2D,Conv2DTranspose,LeakyReLU,Dropout,Embedding,concatenate \n",
    "from IPython import display\n"
   ]
  },
  {
   "cell_type": "code",
   "execution_count": 5,
   "metadata": {
    "colab": {
     "base_uri": "https://localhost:8080/"
    },
    "id": "sZT7yaw5Zxgl",
    "outputId": "1fac4721-531b-472f-c67b-d9d3d326df32"
   },
   "outputs": [
    {
     "name": "stdout",
     "output_type": "stream",
     "text": [
      "Downloading data from https://storage.googleapis.com/tensorflow/tf-keras-datasets/train-labels-idx1-ubyte.gz\n",
      "32768/29515 [=================================] - 0s 0us/step\n",
      "40960/29515 [=========================================] - 0s 0us/step\n",
      "Downloading data from https://storage.googleapis.com/tensorflow/tf-keras-datasets/train-images-idx3-ubyte.gz\n",
      "26427392/26421880 [==============================] - 0s 0us/step\n",
      "26435584/26421880 [==============================] - 0s 0us/step\n",
      "Downloading data from https://storage.googleapis.com/tensorflow/tf-keras-datasets/t10k-labels-idx1-ubyte.gz\n",
      "16384/5148 [===============================================================================================] - 0s 0us/step\n",
      "Downloading data from https://storage.googleapis.com/tensorflow/tf-keras-datasets/t10k-images-idx3-ubyte.gz\n",
      "4423680/4422102 [==============================] - 0s 0us/step\n",
      "4431872/4422102 [==============================] - 0s 0us/step\n"
     ]
    }
   ],
   "source": [
    "#get the dataset\n",
    "(x_train,_),_ = tf.keras.datasets.fashion_mnist.load_data()\n",
    "x_train = x_train.astype(np.float32)/255.0"
   ]
  },
  {
   "cell_type": "code",
   "execution_count": 6,
   "metadata": {
    "id": "h6MKivujbMRf"
   },
   "outputs": [],
   "source": [
    "#define parameters\n",
    "LATENT_DIM = 64\n",
    "BATCH_SIZE = 64"
   ]
  },
  {
   "cell_type": "code",
   "execution_count": 7,
   "metadata": {
    "id": "9xCyqPoFbNDZ"
   },
   "outputs": [],
   "source": [
    "#convert to tf dataset\n",
    "dataset = tf.data.Dataset.from_tensor_slices(x_train).shuffle(3000)\n",
    "dataset = dataset.batch(BATCH_SIZE,drop_remainder = True).prefetch(1)"
   ]
  },
  {
   "cell_type": "code",
   "execution_count": 17,
   "metadata": {
    "colab": {
     "base_uri": "https://localhost:8080/"
    },
    "id": "LZ3gsgIqbNsz",
    "outputId": "4f50f957-8dde-4dd3-8f68-90abfe0836cc"
   },
   "outputs": [
    {
     "name": "stdout",
     "output_type": "stream",
     "text": [
      "Model: \"sequential_5\"\n",
      "_________________________________________________________________\n",
      " Layer (type)                Output Shape              Param #   \n",
      "=================================================================\n",
      " dense_6 (Dense)             (None, 49)                3185      \n",
      "                                                                 \n",
      " leaky_re_lu_10 (LeakyReLU)  (None, 49)                0         \n",
      "                                                                 \n",
      " reshape_2 (Reshape)         (None, 7, 7, 1)           0         \n",
      "                                                                 \n",
      " conv2d_transpose_4 (Conv2DT  (None, 14, 14, 128)      2176      \n",
      " ranspose)                                                       \n",
      "                                                                 \n",
      " leaky_re_lu_11 (LeakyReLU)  (None, 14, 14, 128)       0         \n",
      "                                                                 \n",
      " conv2d_transpose_5 (Conv2DT  (None, 28, 28, 1)        2049      \n",
      " ranspose)                                                       \n",
      "                                                                 \n",
      " batch_normalization_12 (Bat  (None, 28, 28, 1)        4         \n",
      " chNormalization)                                                \n",
      "                                                                 \n",
      "=================================================================\n",
      "Total params: 7,414\n",
      "Trainable params: 7,412\n",
      "Non-trainable params: 2\n",
      "_________________________________________________________________\n"
     ]
    }
   ],
   "source": [
    "#define generator model\n",
    "def generator():\n",
    "  model = tf.keras.Sequential()\n",
    "  model.add(Dense(7*7,input_shape=[LATENT_DIM]))\n",
    "  model.add(LeakyReLU(0.1))\n",
    "  \n",
    "  model.add(Reshape([7,7,1]))\n",
    "  model.add(Conv2DTranspose(128,(4,4),padding='same',strides=(2,2)))\n",
    "  model.add(LeakyReLU(0.2))\n",
    "  \n",
    "  model.add(Conv2DTranspose(1,(4,4),padding='same',activation=\"sigmoid\",strides=(2,2)))\n",
    "  model.add((BatchNormalization()))\n",
    "  #model.add(LeakyReLU(0.2))\n",
    " \n",
    "  \n",
    "  return model\n",
    "\n",
    "gen = generator()\n",
    "gen.summary()"
   ]
  },
  {
   "cell_type": "code",
   "execution_count": 18,
   "metadata": {
    "colab": {
     "base_uri": "https://localhost:8080/"
    },
    "id": "sBTT2GBwbT1D",
    "outputId": "a6352633-c344-4977-ba0d-7fcf5a52cb37"
   },
   "outputs": [
    {
     "name": "stdout",
     "output_type": "stream",
     "text": [
      "Model: \"sequential_6\"\n",
      "_________________________________________________________________\n",
      " Layer (type)                Output Shape              Param #   \n",
      "=================================================================\n",
      " conv2d_4 (Conv2D)           (None, 14, 14, 128)       2176      \n",
      "                                                                 \n",
      " leaky_re_lu_12 (LeakyReLU)  (None, 14, 14, 128)       0         \n",
      "                                                                 \n",
      " conv2d_5 (Conv2D)           (None, 6, 6, 64)          131136    \n",
      "                                                                 \n",
      " leaky_re_lu_13 (LeakyReLU)  (None, 6, 6, 64)          0         \n",
      "                                                                 \n",
      " flatten_2 (Flatten)         (None, 2304)              0         \n",
      "                                                                 \n",
      " dense_7 (Dense)             (None, 64)                147520    \n",
      "                                                                 \n",
      " leaky_re_lu_14 (LeakyReLU)  (None, 64)                0         \n",
      "                                                                 \n",
      " batch_normalization_13 (Bat  (None, 64)               256       \n",
      " chNormalization)                                                \n",
      "                                                                 \n",
      " dense_8 (Dense)             (None, 1)                 65        \n",
      "                                                                 \n",
      "=================================================================\n",
      "Total params: 281,153\n",
      "Trainable params: 281,025\n",
      "Non-trainable params: 128\n",
      "_________________________________________________________________\n"
     ]
    }
   ],
   "source": [
    "#define discriminator model\n",
    "def discriminator():\n",
    "  model = tf.keras.Sequential()\n",
    "  model.add(Conv2D(128,(4,4),strides=(2,2),padding=\"same\",input_shape = [28,28,1]))\n",
    "  model.add(LeakyReLU(0.2))\n",
    "  \n",
    "  model.add(Conv2D(64,(4,4),strides=(2,2),padding=\"valid\"))\n",
    "  model.add(LeakyReLU(0.2))\n",
    "  \n",
    "  model.add(Flatten())\n",
    "  model.add(Dense(64))\n",
    "  model.add(LeakyReLU(0.2))\n",
    "  model.add((BatchNormalization()))\n",
    "  model.add(Dense(1,activation=\"sigmoid\"))\n",
    "  return model\n",
    "\n",
    "dis = discriminator()\n",
    "dis.summary()"
   ]
  },
  {
   "cell_type": "code",
   "execution_count": 19,
   "metadata": {
    "id": "SPNHS9_sbV18"
   },
   "outputs": [],
   "source": [
    "#define composite model\n",
    "dis = discriminator()\n",
    "gen = generator()\n",
    "gan = tf.keras.Sequential([gen,dis])\n",
    "dis.compile(loss=\"binary_crossentropy\",optimizer=\"Adam\")\n",
    "dis.trainable = False\n",
    "gan.compile(loss=\"binary_crossentropy\",optimizer=\"Adam\")"
   ]
  },
  {
   "cell_type": "code",
   "execution_count": 20,
   "metadata": {
    "id": "zdCI3IZNbWz4"
   },
   "outputs": [],
   "source": [
    "#train\n",
    "def train(gan,dataset,num_epochs):\n",
    "  gen,dis = gan.layers\n",
    "  for epoch in range(num_epochs):\n",
    "    print(epoch)\n",
    "    for real_image_batch in dataset:\n",
    "      #draw latent vectors\n",
    "      latent = tf.random.normal([BATCH_SIZE,LATENT_DIM])\n",
    "      #get the fake batch\n",
    "      fake_image_batch = tf.squeeze(gen(latent))\n",
    "      #create input to discriminator\n",
    "      x_concat = tf.concat([real_image_batch,fake_image_batch],axis=0)\n",
    "      y_concat = tf.concat([tf.convert_to_tensor(np.ones(BATCH_SIZE)),tf.convert_to_tensor(np.zeros(BATCH_SIZE))],axis=0)\n",
    "      #train discriminator\n",
    "      dis.trainable = True\n",
    "      dis.train_on_batch(x_concat,y_concat)\n",
    "      #fix discriminator weights\n",
    "      dis.trainable = False\n",
    "      #draw latent vectors again\n",
    "      latent = tf.random.normal([BATCH_SIZE,LATENT_DIM])\n",
    "      #labels for gen training\n",
    "      y = tf.convert_to_tensor(np.ones(BATCH_SIZE))\n",
    "      #train the generator\n",
    "      gan.train_on_batch(latent, y)"
   ]
  },
  {
   "cell_type": "code",
   "execution_count": 24,
   "metadata": {
    "colab": {
     "base_uri": "https://localhost:8080/"
    },
    "id": "Fflz7fRZbYoj",
    "outputId": "1ea17804-a88b-4057-ed02-9777b4436457"
   },
   "outputs": [
    {
     "name": "stdout",
     "output_type": "stream",
     "text": [
      "0\n",
      "1\n",
      "2\n",
      "3\n",
      "4\n",
      "5\n",
      "6\n",
      "7\n",
      "8\n",
      "9\n",
      "10\n",
      "11\n",
      "12\n",
      "13\n",
      "14\n",
      "15\n",
      "16\n",
      "17\n",
      "18\n",
      "19\n",
      "20\n",
      "21\n",
      "22\n",
      "23\n",
      "24\n",
      "25\n",
      "26\n",
      "27\n",
      "28\n",
      "29\n",
      "30\n",
      "31\n",
      "32\n",
      "33\n",
      "34\n",
      "35\n",
      "36\n",
      "37\n",
      "38\n",
      "39\n",
      "40\n",
      "41\n",
      "42\n",
      "43\n",
      "44\n",
      "45\n",
      "46\n",
      "47\n",
      "48\n",
      "49\n"
     ]
    }
   ],
   "source": [
    "train(gan,dataset,50)"
   ]
  },
  {
   "cell_type": "code",
   "execution_count": 25,
   "metadata": {
    "colab": {
     "base_uri": "https://localhost:8080/",
     "height": 268
    },
    "id": "HyZRmwZ_bZrO",
    "outputId": "a8519fe0-bf03-4dd3-b588-cb79ecee8ef2"
   },
   "outputs": [
    {
     "data": {
      "image/png": "[encoded data removed]",
      "text/plain": [
       "<Figure size 288x288 with 16 Axes>"
      ]
     },
     "metadata": {
      "needs_background": "light"
     },
     "output_type": "display_data"
    }
   ],
   "source": [
    "def plot(images):\n",
    "  #enter a square num of images\n",
    "  num = np.sqrt(len(images))\n",
    "  plt.figure(figsize=(num,num))\n",
    "  for index, image in enumerate(images):\n",
    "    plt.subplot(num,num,index+1)\n",
    "    plt.imshow(image[:,:,0])\n",
    "\n",
    "latent = tf.random.normal([16,LATENT_DIM])\n",
    "gen = gan.layers[0]\n",
    "plot(gen(latent))"
   ]
  },
  {
   "cell_type": "code",
   "execution_count": 26,
   "metadata": {
    "colab": {
     "base_uri": "https://localhost:8080/"
    },
    "id": "4iID2CW6c66D",
    "outputId": "454bac2b-9197-478b-cfc0-9072c0e6fdf4"
   },
   "outputs": [
    {
     "name": "stdout",
     "output_type": "stream",
     "text": [
      "Mounted at /content/drive\n"
     ]
    }
   ],
   "source": [
    "from google.colab import drive\n",
    "drive.mount('/content/drive')\n",
    "\n"
   ]
  },
  {
   "cell_type": "code",
   "execution_count": 27,
   "metadata": {
    "colab": {
     "base_uri": "https://localhost:8080/"
    },
    "id": "eU-4qzkQc7IS",
    "outputId": "eab35ec8-708b-4345-e16e-21ddf9ddc76e"
   },
   "outputs": [
    {
     "name": "stdout",
     "output_type": "stream",
     "text": [
      "INFO:tensorflow:Assets written to: /content/drive/MyDrive/convGAN_FashionMNIST/assets\n"
     ]
    }
   ],
   "source": [
    "gan.save(\"/content/drive/MyDrive/convGAN_FashionMNIST\")"
   ]
  },
  {
   "cell_type": "code",
   "execution_count": null,
   "metadata": {
    "id": "amWrVNSepiaC"
   },
   "outputs": [],
   "source": []
  }
 ],
 "metadata": {
  "accelerator": "GPU",
  "colab": {
   "name": "convGAN_FashionMNIST.ipynb",
   "provenance": []
  },
  "kernelspec": {
   "display_name": "Python 3",
   "language": "python",
   "name": "python3"
  },
  "language_info": {
   "codemirror_mode": {
    "name": "ipython",
    "version": 3
   },
   "file_extension": ".py",
   "mimetype": "text/x-python",
   "name": "python",
   "nbconvert_exporter": "python",
   "pygments_lexer": "ipython3",
   "version": "3.8.5"
  }
 },
 "nbformat": 4,
 "nbformat_minor": 1
}
