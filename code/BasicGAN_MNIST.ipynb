{
 "cells": [
  {
   "cell_type": "code",
   "execution_count": 5,
   "metadata": {
    "id": "nkl5c6fwDpUA"
   },
   "outputs": [],
   "source": [
    "import tensorflow as tf\n",
    "import numpy as np\n",
    "import matplotlib.pyplot as plt\n",
    "from tensorflow.keras.layers import Dense,Reshape,Dropout,Flatten,LeakyReLU,BatchNormalization\n",
    "from IPython import display"
   ]
  },
  {
   "cell_type": "code",
   "execution_count": 2,
   "metadata": {
    "colab": {
     "base_uri": "https://localhost:8080/"
    },
    "id": "BtsIdbYiG1U7",
    "outputId": "9d4e3686-0f32-4add-aa40-71065c7e6d94"
   },
   "outputs": [
    {
     "name": "stdout",
     "output_type": "stream",
     "text": [
      "Downloading data from https://storage.googleapis.com/tensorflow/tf-keras-datasets/mnist.npz\n",
      "11493376/11490434 [==============================] - 0s 0us/step\n",
      "11501568/11490434 [==============================] - 0s 0us/step\n"
     ]
    }
   ],
   "source": [
    "#get the data\n",
    "(x_train,_),_ = tf.keras.datasets.mnist.load_data()\n",
    "#normalize\n",
    "x_train = x_train.astype(np.float32)/255.0"
   ]
  },
  {
   "cell_type": "code",
   "execution_count": 3,
   "metadata": {
    "id": "D2HD3UJnEbW5"
   },
   "outputs": [],
   "source": [
    "#define \n",
    "LATENT_DIM = 32\n",
    "BATCH_SIZE = 64"
   ]
  },
  {
   "cell_type": "code",
   "execution_count": 4,
   "metadata": {
    "id": "UfJouoavHCvQ"
   },
   "outputs": [],
   "source": [
    "#convert to tf dataset\n",
    "dataset = tf.data.Dataset.from_tensor_slices(x_train).shuffle(3000)\n",
    "dataset = dataset.batch(BATCH_SIZE,drop_remainder = True)"
   ]
  },
  {
   "cell_type": "code",
   "execution_count": 18,
   "metadata": {
    "id": "lmJq5YXlD9aQ"
   },
   "outputs": [],
   "source": [
    "#create generator model\n",
    "def generator():\n",
    "  model = tf.keras.Sequential()\n",
    "  model.add(Dense(64,input_shape=[LATENT_DIM]))\n",
    "  model.add(LeakyReLU(alpha=0.1))\n",
    "  model.add(BatchNormalization())\n",
    "  model.add(Dense(128))\n",
    "  model.add(LeakyReLU(alpha=0.1))\n",
    "  model.add(BatchNormalization())\n",
    "  model.add(Dense(28*28,activation=\"sigmoid\"))\n",
    "  model.add(Reshape([28,28]))\n",
    "  return model"
   ]
  },
  {
   "cell_type": "markdown",
   "metadata": {
    "id": "3WKbGRyl5SoQ"
   },
   "source": []
  },
  {
   "cell_type": "markdown",
   "metadata": {
    "id": "LWklcOaD5S4D"
   },
   "source": []
  },
  {
   "cell_type": "code",
   "execution_count": 19,
   "metadata": {
    "colab": {
     "base_uri": "https://localhost:8080/",
     "height": 282
    },
    "id": "fcW1P79UH0xs",
    "outputId": "cffb2d22-6e56-467a-fbbb-2f45e3622e92"
   },
   "outputs": [
    {
     "data": {
      "text/plain": [
       "<matplotlib.image.AxesImage at 0x7f8ac1ceef50>"
      ]
     },
     "execution_count": 19,
     "metadata": {},
     "output_type": "execute_result"
    },
    {
     "data": {
      "image/png": "[encoded data removed]",
      "text/plain": [
       "<Figure size 432x288 with 1 Axes>"
      ]
     },
     "metadata": {
      "needs_background": "light"
     },
     "output_type": "display_data"
    }
   ],
   "source": [
    "#example generation\n",
    "latent = tf.random.normal([1,LATENT_DIM])\n",
    "gen = generator()\n",
    "plt.imshow(gen(latent)[0,:,:])"
   ]
  },
  {
   "cell_type": "code",
   "execution_count": 20,
   "metadata": {
    "id": "cFby0tdeIDIS"
   },
   "outputs": [],
   "source": [
    "#create discriminator model\n",
    "def discriminator():\n",
    "  model = tf.keras.Sequential()\n",
    "  model.add(Flatten(input_shape = [28,28]))\n",
    "  model.add(Dense(128))\n",
    "  model.add(LeakyReLU(alpha=0.2))\n",
    "  model.add(BatchNormalization())\n",
    "  model.add(Dense(32))\n",
    "  model.add(BatchNormalization())\n",
    "  model.add(LeakyReLU(alpha=0.2))\n",
    "  model.add(Dense(1,activation=\"sigmoid\"))\n",
    "  return model"
   ]
  },
  {
   "cell_type": "code",
   "execution_count": 21,
   "metadata": {
    "id": "0KHQqwvIJclN"
   },
   "outputs": [],
   "source": [
    "dis = discriminator()"
   ]
  },
  {
   "cell_type": "code",
   "execution_count": 22,
   "metadata": {
    "id": "ak_yxnC0IqFH"
   },
   "outputs": [],
   "source": [
    "#create composite model\n",
    "gan = tf.keras.Sequential([gen,dis])"
   ]
  },
  {
   "cell_type": "code",
   "execution_count": 23,
   "metadata": {
    "id": "KNDpzgpnJfzQ"
   },
   "outputs": [],
   "source": [
    "dis.compile(loss=\"binary_crossentropy\",optimizer=\"Adam\")\n",
    "dis.trainable = False\n",
    "gan.compile(loss=\"binary_crossentropy\",optimizer=\"Adam\")"
   ]
  },
  {
   "cell_type": "code",
   "execution_count": 30,
   "metadata": {
    "id": "QrDTg4rSJrqK"
   },
   "outputs": [],
   "source": [
    "def train(gan,dataset,num_epochs):\n",
    "  gen,dis = gan.layers\n",
    "  for epoch in range(num_epochs):\n",
    "    print(epoch)\n",
    "    for real_image_batch in dataset:\n",
    "      #draw latent vectors from gaussian prior  \n",
    "      latent = tf.random.normal([BATCH_SIZE,LATENT_DIM])\n",
    "      #generate fake images\n",
    "      fake_image_batch = gen(latent)\n",
    "      #create input for training discriminator\n",
    "      x_concat = tf.concat([real_image_batch,fake_image_batch],axis=0)\n",
    "      y_concat = tf.concat([tf.convert_to_tensor(np.ones(BATCH_SIZE)),tf.convert_to_tensor(np.zeros(BATCH_SIZE))],axis=0)\n",
    "      dis.trainable = True\n",
    "      #train the discriminator\n",
    "      dis.train_on_batch(x_concat,y_concat)\n",
    "      #fix discriminator weights\n",
    "      dis.trainable = False\n",
    "      #again draw latent vectors\n",
    "      latent = tf.random.normal([BATCH_SIZE,LATENT_DIM])\n",
    "      #sequence of ones as we want to fool the discriminator\n",
    "      y = tf.convert_to_tensor(np.ones(BATCH_SIZE))\n",
    "      #train the generator\n",
    "      gan.train_on_batch(latent, y)\n",
    "      #generate example images\n",
    "      latent = tf.random.normal([1,LATENT_DIM])\n",
    "      gen = gan.layers[0]\n",
    "      plt.imshow(gen(latent)[0,:,:])"
   ]
  },
  {
   "cell_type": "code",
   "execution_count": 38,
   "metadata": {
    "colab": {
     "base_uri": "https://localhost:8080/",
     "height": 612
    },
    "id": "T7TcBrBsLw9g",
    "outputId": "e37c004e-e68d-467d-c49b-4b016045e600"
   },
   "outputs": [
    {
     "name": "stdout",
     "output_type": "stream",
     "text": [
      "0\n",
      "1\n",
      "2\n",
      "3\n",
      "4\n",
      "5\n",
      "6\n",
      "7\n",
      "8\n",
      "9\n",
      "10\n",
      "11\n",
      "12\n",
      "13\n",
      "14\n",
      "15\n",
      "16\n",
      "17\n",
      "18\n",
      "19\n"
     ]
    },
    {
     "data": {
      "image/png": "[encoded data removed]",
      "text/plain": [
       "<Figure size 432x288 with 1 Axes>"
      ]
     },
     "metadata": {
      "needs_background": "light"
     },
     "output_type": "display_data"
    }
   ],
   "source": [
    "train(gan,dataset,20)"
   ]
  },
  {
   "cell_type": "code",
   "execution_count": 39,
   "metadata": {
    "colab": {
     "base_uri": "https://localhost:8080/",
     "height": 282
    },
    "id": "Wrv_CSlRLzT-",
    "outputId": "5ea4cf49-be89-4e20-d3f9-8a640f792964"
   },
   "outputs": [
    {
     "data": {
      "text/plain": [
       "<matplotlib.image.AxesImage at 0x7f8a9fd08250>"
      ]
     },
     "execution_count": 39,
     "metadata": {},
     "output_type": "execute_result"
    },
    {
     "data": {
      "image/png": "[encoded data removed]",
      "text/plain": [
       "<Figure size 432x288 with 1 Axes>"
      ]
     },
     "metadata": {
      "needs_background": "light"
     },
     "output_type": "display_data"
    }
   ],
   "source": [
    "latent = tf.random.normal([1,LATENT_DIM])\n",
    "gen = gan.layers[0]\n",
    "plt.imshow(gen(latent)[0,:,:])"
   ]
  },
  {
   "cell_type": "code",
   "execution_count": 40,
   "metadata": {
    "colab": {
     "base_uri": "https://localhost:8080/",
     "height": 282
    },
    "id": "vKkGMr9mPbud",
    "outputId": "7ee8042c-36d3-4316-b439-f1e535d0cd33"
   },
   "outputs": [
    {
     "data": {
      "text/plain": [
       "<matplotlib.image.AxesImage at 0x7f8aa0ab9d10>"
      ]
     },
     "execution_count": 40,
     "metadata": {},
     "output_type": "execute_result"
    },
    {
     "data": {
      "image/png": "[encoded data removed]",
      "text/plain": [
       "<Figure size 432x288 with 1 Axes>"
      ]
     },
     "metadata": {
      "needs_background": "light"
     },
     "output_type": "display_data"
    }
   ],
   "source": [
    "latent = tf.random.normal([1,LATENT_DIM])\n",
    "gen = gan.layers[0]\n",
    "plt.imshow(gen(latent)[0,:,:])"
   ]
  },
  {
   "cell_type": "code",
   "execution_count": 41,
   "metadata": {
    "colab": {
     "base_uri": "https://localhost:8080/",
     "height": 268
    },
    "id": "y-KO1nSchNCj",
    "outputId": "590ac3e9-1d6a-4b46-ddba-b806fa28e33d"
   },
   "outputs": [
    {
     "data": {
      "image/png": "[encoded data removed]",
      "text/plain": [
       "<Figure size 288x288 with 16 Axes>"
      ]
     },
     "metadata": {
      "needs_background": "light"
     },
     "output_type": "display_data"
    }
   ],
   "source": [
    "def plot(images):\n",
    "  #enter a square num of images\n",
    "  num = np.sqrt(len(images))\n",
    "  plt.figure(figsize=(num,num))\n",
    "  for index, image in enumerate(images):\n",
    "    plt.subplot(num,num,index+1)\n",
    "    plt.imshow(image)\n",
    "\n",
    "latent = tf.random.normal([16,LATENT_DIM])\n",
    "gen = gan.layers[0]\n",
    "plot(gen(latent))"
   ]
  },
  {
   "cell_type": "code",
   "execution_count": 42,
   "metadata": {
    "colab": {
     "base_uri": "https://localhost:8080/"
    },
    "id": "L-wzTouY2Uyg",
    "outputId": "a44403ac-4c21-4712-df7a-484d98155cfb"
   },
   "outputs": [
    {
     "name": "stdout",
     "output_type": "stream",
     "text": [
      "Mounted at /content/drive\n"
     ]
    }
   ],
   "source": [
    "from google.colab import drive\n",
    "drive.mount('/content/drive')"
   ]
  },
  {
   "cell_type": "code",
   "execution_count": 43,
   "metadata": {
    "colab": {
     "base_uri": "https://localhost:8080/"
    },
    "id": "7XppnVj4TWaO",
    "outputId": "dce48058-16bc-4d77-9ec6-f1bf59848b99"
   },
   "outputs": [
    {
     "name": "stdout",
     "output_type": "stream",
     "text": [
      "INFO:tensorflow:Assets written to: /content/drive/MyDrive/BasicGAN_MNIST/assets\n"
     ]
    }
   ],
   "source": [
    "gan.save(\"/content/drive/MyDrive/BasicGAN_MNIST\")"
   ]
  },
  {
   "cell_type": "code",
   "execution_count": null,
   "metadata": {
    "id": "qcglLZwlaIGn"
   },
   "outputs": [],
   "source": []
  }
 ],
 "metadata": {
  "accelerator": "GPU",
  "colab": {
   "name": "BasicGAN_MNIST.ipynb",
   "provenance": []
  },
  "kernelspec": {
   "display_name": "Python 3",
   "language": "python",
   "name": "python3"
  },
  "language_info": {
   "codemirror_mode": {
    "name": "ipython",
    "version": 3
   },
   "file_extension": ".py",
   "mimetype": "text/x-python",
   "name": "python",
   "nbconvert_exporter": "python",
   "pygments_lexer": "ipython3",
   "version": "3.8.5"
  }
 },
 "nbformat": 4,
 "nbformat_minor": 1
}
